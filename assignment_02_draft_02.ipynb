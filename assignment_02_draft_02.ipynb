{
 "cells": [
  {
   "cell_type": "code",
   "execution_count": 1,
   "metadata": {},
   "outputs": [],
   "source": [
    "import datetime as dt\n",
    "import numpy as np\n",
    "import pandas as pd\n",
    "import matplotlib.pyplot as plt\n",
    "import seaborn as sns\n",
    "import quandl as ql"
   ]
  },
  {
   "cell_type": "code",
   "execution_count": 2,
   "metadata": {},
   "outputs": [],
   "source": [
    "%matplotlib inline"
   ]
  },
  {
   "cell_type": "code",
   "execution_count": 6,
   "metadata": {},
   "outputs": [],
   "source": [
    "pd.set_option('display.width', 1000)\n",
    "pd.set_option('display.max_rows', 500)\n",
    "pd.set_option('display.max_columns', 500)"
   ]
  },
  {
   "cell_type": "markdown",
   "metadata": {},
   "source": [
    "List of indicators used from quandl\n",
    "1. Total Investment, % of GDP:\tODA/ZAF_NID_NGDP\n",
    "2. GDP at Constant Prices, LCU Billions:\tODA_ZAF_NGDP_R\n",
    "3. Current Account Balance, % of GDP:\tODA/ZAF_BCA_NGDPD\n",
    "4. Inflation Index, End of Period Consumer Prices\tODA/ZAF_PCPIE\n",
    "5. Banks - Money:\tUIFS/BK_MON_ZAF\n",
    "6. Bond Yields:\tUIFS/YLD_ZAF"
   ]
  },
  {
   "cell_type": "code",
   "execution_count": 30,
   "metadata": {},
   "outputs": [],
   "source": [
    "indicators = {\n",
    "    'investments': 'ODA/ZAF_NID_NGDP',\n",
    "    'GDP': 'ODA/ZAF_NGDP_R',\n",
    "    'current_ac_bal': 'ODA/ZAF_BCA_NGDPD',\n",
    "    'inflation_index': 'ODA/ZAF_PCPIE',\n",
    "    'bond_yield': 'UIFS/YLD_ZAF',\n",
    "    'banks_money': 'UIFS/BK_MON_ZAF'\n",
    "}"
   ]
  },
  {
   "cell_type": "code",
   "execution_count": 31,
   "metadata": {},
   "outputs": [],
   "source": [
    "start_dt = dt.date(1980, 1, 1)"
   ]
  },
  {
   "cell_type": "code",
   "execution_count": 7,
   "metadata": {},
   "outputs": [],
   "source": [
    "ql.ApiConfig.api_key = 'P_Td-wJDfw1M8Yccxxqe'"
   ]
  },
  {
   "cell_type": "code",
   "execution_count": 32,
   "metadata": {},
   "outputs": [],
   "source": [
    "'''Downloading data from Quandl: be sure to use your own API key'''\n",
    "for key, value in enumerate(indicators.items()):\n",
    "    globals()['{}'.format(value[0])] = ql.get(value[1], start_date=start_dt)"
   ]
  },
  {
   "cell_type": "code",
   "execution_count": 59,
   "metadata": {},
   "outputs": [
    {
     "data": {
      "text/html": [
       "<div>\n",
       "<style scoped>\n",
       "    .dataframe tbody tr th:only-of-type {\n",
       "        vertical-align: middle;\n",
       "    }\n",
       "\n",
       "    .dataframe tbody tr th {\n",
       "        vertical-align: top;\n",
       "    }\n",
       "\n",
       "    .dataframe thead th {\n",
       "        text-align: right;\n",
       "    }\n",
       "</style>\n",
       "<table border=\"1\" class=\"dataframe\">\n",
       "  <thead>\n",
       "    <tr style=\"text-align: right;\">\n",
       "      <th></th>\n",
       "      <th>investments</th>\n",
       "      <th>GDP</th>\n",
       "      <th>current_ac_bal</th>\n",
       "      <th>inflation_index</th>\n",
       "      <th>bond_yield</th>\n",
       "      <th>banks_money</th>\n",
       "    </tr>\n",
       "    <tr>\n",
       "      <th>Date</th>\n",
       "      <th></th>\n",
       "      <th></th>\n",
       "      <th></th>\n",
       "      <th></th>\n",
       "      <th></th>\n",
       "      <th></th>\n",
       "    </tr>\n",
       "  </thead>\n",
       "  <tbody>\n",
       "    <tr>\n",
       "      <th>1980-12-31</th>\n",
       "      <td>31.356</td>\n",
       "      <td>1404.900</td>\n",
       "      <td>3.961</td>\n",
       "      <td>4.7</td>\n",
       "      <td>10.0858</td>\n",
       "      <td>3.465500e+10</td>\n",
       "    </tr>\n",
       "    <tr>\n",
       "      <th>1981-12-31</th>\n",
       "      <td>34.115</td>\n",
       "      <td>1480.213</td>\n",
       "      <td>-6.018</td>\n",
       "      <td>5.3</td>\n",
       "      <td>12.9875</td>\n",
       "      <td>4.082740e+10</td>\n",
       "    </tr>\n",
       "    <tr>\n",
       "      <th>1982-12-31</th>\n",
       "      <td>26.529</td>\n",
       "      <td>1474.538</td>\n",
       "      <td>-4.364</td>\n",
       "      <td>6.0</td>\n",
       "      <td>13.5083</td>\n",
       "      <td>4.705630e+10</td>\n",
       "    </tr>\n",
       "    <tr>\n",
       "      <th>1983-12-31</th>\n",
       "      <td>27.173</td>\n",
       "      <td>1447.310</td>\n",
       "      <td>-0.462</td>\n",
       "      <td>6.7</td>\n",
       "      <td>12.6650</td>\n",
       "      <td>5.477880e+10</td>\n",
       "    </tr>\n",
       "    <tr>\n",
       "      <th>1984-12-31</th>\n",
       "      <td>25.543</td>\n",
       "      <td>1521.110</td>\n",
       "      <td>-2.422</td>\n",
       "      <td>7.5</td>\n",
       "      <td>15.2267</td>\n",
       "      <td>6.462610e+10</td>\n",
       "    </tr>\n",
       "  </tbody>\n",
       "</table>\n",
       "</div>"
      ],
      "text/plain": [
       "            investments       GDP  current_ac_bal  inflation_index  bond_yield   banks_money\n",
       "Date                                                                                        \n",
       "1980-12-31       31.356  1404.900           3.961              4.7     10.0858  3.465500e+10\n",
       "1981-12-31       34.115  1480.213          -6.018              5.3     12.9875  4.082740e+10\n",
       "1982-12-31       26.529  1474.538          -4.364              6.0     13.5083  4.705630e+10\n",
       "1983-12-31       27.173  1447.310          -0.462              6.7     12.6650  5.477880e+10\n",
       "1984-12-31       25.543  1521.110          -2.422              7.5     15.2267  6.462610e+10"
      ]
     },
     "execution_count": 59,
     "metadata": {},
     "output_type": "execute_result"
    }
   ],
   "source": [
    "'''Concatnating each variable into a single dataframe'''\n",
    "variables = pd.concat((investments, GDP, current_ac_bal, inflation_index, bond_yield, banks_money['M3 (RAND)']), axis=1)\n",
    "variables.columns = indicators.keys()\n",
    "variables.head()"
   ]
  },
  {
   "cell_type": "code",
   "execution_count": 60,
   "metadata": {},
   "outputs": [
    {
     "data": {
      "text/html": [
       "<div>\n",
       "<style scoped>\n",
       "    .dataframe tbody tr th:only-of-type {\n",
       "        vertical-align: middle;\n",
       "    }\n",
       "\n",
       "    .dataframe tbody tr th {\n",
       "        vertical-align: top;\n",
       "    }\n",
       "\n",
       "    .dataframe thead th {\n",
       "        text-align: right;\n",
       "    }\n",
       "</style>\n",
       "<table border=\"1\" class=\"dataframe\">\n",
       "  <thead>\n",
       "    <tr style=\"text-align: right;\">\n",
       "      <th></th>\n",
       "      <th>investments</th>\n",
       "      <th>GDP</th>\n",
       "      <th>current_ac_bal</th>\n",
       "      <th>inflation_index</th>\n",
       "      <th>bond_yield</th>\n",
       "      <th>banks_money</th>\n",
       "    </tr>\n",
       "    <tr>\n",
       "      <th>Date</th>\n",
       "      <th></th>\n",
       "      <th></th>\n",
       "      <th></th>\n",
       "      <th></th>\n",
       "      <th></th>\n",
       "      <th></th>\n",
       "    </tr>\n",
       "  </thead>\n",
       "  <tbody>\n",
       "    <tr>\n",
       "      <th>1981-12-31</th>\n",
       "      <td>0.34115</td>\n",
       "      <td>0.053607</td>\n",
       "      <td>-0.06018</td>\n",
       "      <td>0.127660</td>\n",
       "      <td>0.129875</td>\n",
       "      <td>0.178110</td>\n",
       "    </tr>\n",
       "    <tr>\n",
       "      <th>1982-12-31</th>\n",
       "      <td>0.26529</td>\n",
       "      <td>-0.003834</td>\n",
       "      <td>-0.04364</td>\n",
       "      <td>0.132075</td>\n",
       "      <td>0.135083</td>\n",
       "      <td>0.152567</td>\n",
       "    </tr>\n",
       "    <tr>\n",
       "      <th>1983-12-31</th>\n",
       "      <td>0.27173</td>\n",
       "      <td>-0.018465</td>\n",
       "      <td>-0.00462</td>\n",
       "      <td>0.116667</td>\n",
       "      <td>0.126650</td>\n",
       "      <td>0.164112</td>\n",
       "    </tr>\n",
       "    <tr>\n",
       "      <th>1984-12-31</th>\n",
       "      <td>0.25543</td>\n",
       "      <td>0.050991</td>\n",
       "      <td>-0.02422</td>\n",
       "      <td>0.119403</td>\n",
       "      <td>0.152267</td>\n",
       "      <td>0.179765</td>\n",
       "    </tr>\n",
       "    <tr>\n",
       "      <th>1985-12-31</th>\n",
       "      <td>0.22050</td>\n",
       "      <td>-0.012115</td>\n",
       "      <td>0.03927</td>\n",
       "      <td>0.186667</td>\n",
       "      <td>0.167917</td>\n",
       "      <td>0.122652</td>\n",
       "    </tr>\n",
       "  </tbody>\n",
       "</table>\n",
       "</div>"
      ],
      "text/plain": [
       "            investments       GDP  current_ac_bal  inflation_index  bond_yield  banks_money\n",
       "Date                                                                                       \n",
       "1981-12-31      0.34115  0.053607        -0.06018         0.127660    0.129875     0.178110\n",
       "1982-12-31      0.26529 -0.003834        -0.04364         0.132075    0.135083     0.152567\n",
       "1983-12-31      0.27173 -0.018465        -0.00462         0.116667    0.126650     0.164112\n",
       "1984-12-31      0.25543  0.050991        -0.02422         0.119403    0.152267     0.179765\n",
       "1985-12-31      0.22050 -0.012115         0.03927         0.186667    0.167917     0.122652"
      ]
     },
     "execution_count": 60,
     "metadata": {},
     "output_type": "execute_result"
    }
   ],
   "source": [
    "'''Standardizing each variable'''\n",
    "variables[['investments', 'bond_yield', 'current_ac_bal']] = variables[['investments', 'bond_yield', 'current_ac_bal']].divide(100)\n",
    "variables[['GDP', 'inflation_index', 'banks_money']] = variables[['GDP', 'inflation_index', 'banks_money']].pct_change()\n",
    "variables = variables[1:]\n",
    "variables.head()"
   ]
  },
  {
   "cell_type": "code",
   "execution_count": 56,
   "metadata": {},
   "outputs": [
    {
     "data": {
      "image/png": "[encoded data removed]",
      "text/plain": [
       "<Figure size 432x288 with 1 Axes>"
      ]
     },
     "metadata": {
      "needs_background": "light"
     },
     "output_type": "display_data"
    }
   ],
   "source": [
    "variables.plot.box();\n",
    "# plt.legend(loc='best', title=None, frameon=False)\n",
    "plt.title('Variables distribution')\n",
    "plt.xticks(rotation=90)\n",
    "plt.show()"
   ]
  },
  {
   "cell_type": "code",
   "execution_count": 64,
   "metadata": {},
   "outputs": [
    {
     "name": "stdout",
     "output_type": "stream",
     "text": [
      "Results of dicky-fuller test:\n"
     ]
    }
   ],
   "source": [
    "'''Inputing missing values of bond_yield and bank_money from 2010 onwards'''\n",
    "from statsmodels.tsa.stattools import adfuller\n",
    "\n",
    "print('Results of dicky-fuller test:')\n",
    "dftest = adfuller(variables.bond_yield.loc[:'2009'], autolag='AIC')\n",
    "dfoutput = pd.Series(dftest[:4], index=['test stat', 'p-val', 'lags used', 'no. obs'])\n",
    "\n",
    "# for key, value in dftest[4].items():\n",
    "#     dfoutput['critical value (%)'% key] = value"
   ]
  },
  {
   "cell_type": "code",
   "execution_count": 65,
   "metadata": {},
   "outputs": [
    {
     "data": {
      "text/plain": [
       "test stat    -0.324695\n",
       "p-val         0.921933\n",
       "lags used     0.000000\n",
       "no. obs      28.000000\n",
       "dtype: float64"
      ]
     },
     "execution_count": 65,
     "metadata": {},
     "output_type": "execute_result"
    }
   ],
   "source": [
    "dfoutput"
   ]
  },
  {
   "cell_type": "markdown",
   "metadata": {},
   "source": [
    "With high p-value, we definitely fail to reject the $H_0$ that the series is stationary."
   ]
  },
  {
   "cell_type": "code",
   "execution_count": 70,
   "metadata": {},
   "outputs": [],
   "source": [
    "stat_by = variables.bond_yield.pct_change()[1:] # Creating a stationary time series by obtaining pct change."
   ]
  },
  {
   "cell_type": "code",
   "execution_count": 71,
   "metadata": {},
   "outputs": [],
   "source": [
    "from statsmodels.tsa.arima_model import ARIMA\n",
    "model = ARIMA(stat_by, order=(2,2,1))\n",
    "results_ARIMA= model.fit(disp=1)"
   ]
  },
  {
   "cell_type": "code",
   "execution_count": null,
   "metadata": {},
   "outputs": [],
   "source": []
  },
  {
   "cell_type": "code",
   "execution_count": null,
   "metadata": {},
   "outputs": [],
   "source": [
    "'''Performing PCA on the data'''"
   ]
  },
  {
   "cell_type": "code",
   "execution_count": null,
   "metadata": {},
   "outputs": [],
   "source": [
    "'''Fitting a regression model to original data vs decomposed data'''"
   ]
  }
 ],
 "metadata": {
  "kernelspec": {
   "display_name": "Python 3",
   "language": "python",
   "name": "python3"
  },
  "language_info": {
   "codemirror_mode": {
    "name": "ipython",
    "version": 3
   },
   "file_extension": ".py",
   "mimetype": "text/x-python",
   "name": "python",
   "nbconvert_exporter": "python",
   "pygments_lexer": "ipython3",
   "version": "3.6.6"
  }
 },
 "nbformat": 4,
 "nbformat_minor": 2
}
